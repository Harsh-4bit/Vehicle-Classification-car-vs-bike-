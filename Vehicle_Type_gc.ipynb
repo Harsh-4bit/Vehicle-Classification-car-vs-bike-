{
  "cells": [
    {
      "cell_type": "code",
      "source": [
        "!pip install kaggle"
      ],
      "metadata": {
        "colab": {
          "base_uri": "https://localhost:8080/"
        },
        "id": "gHByyEKSywFY",
        "outputId": "d93962bc-4eeb-4f03-845b-0f920433bcde"
      },
      "execution_count": 3,
      "outputs": [
        {
          "output_type": "stream",
          "name": "stdout",
          "text": [
            "Requirement already satisfied: kaggle in /usr/local/lib/python3.10/dist-packages (1.6.14)\n",
            "Requirement already satisfied: six>=1.10 in /usr/local/lib/python3.10/dist-packages (from kaggle) (1.16.0)\n",
            "Requirement already satisfied: certifi>=2023.7.22 in /usr/local/lib/python3.10/dist-packages (from kaggle) (2024.6.2)\n",
            "Requirement already satisfied: python-dateutil in /usr/local/lib/python3.10/dist-packages (from kaggle) (2.8.2)\n",
            "Requirement already satisfied: requests in /usr/local/lib/python3.10/dist-packages (from kaggle) (2.31.0)\n",
            "Requirement already satisfied: tqdm in /usr/local/lib/python3.10/dist-packages (from kaggle) (4.66.4)\n",
            "Requirement already satisfied: python-slugify in /usr/local/lib/python3.10/dist-packages (from kaggle) (8.0.4)\n",
            "Requirement already satisfied: urllib3 in /usr/local/lib/python3.10/dist-packages (from kaggle) (2.0.7)\n",
            "Requirement already satisfied: bleach in /usr/local/lib/python3.10/dist-packages (from kaggle) (6.1.0)\n",
            "Requirement already satisfied: webencodings in /usr/local/lib/python3.10/dist-packages (from bleach->kaggle) (0.5.1)\n",
            "Requirement already satisfied: text-unidecode>=1.3 in /usr/local/lib/python3.10/dist-packages (from python-slugify->kaggle) (1.3)\n",
            "Requirement already satisfied: charset-normalizer<4,>=2 in /usr/local/lib/python3.10/dist-packages (from requests->kaggle) (3.3.2)\n",
            "Requirement already satisfied: idna<4,>=2.5 in /usr/local/lib/python3.10/dist-packages (from requests->kaggle) (3.7)\n"
          ]
        }
      ]
    },
    {
      "cell_type": "code",
      "execution_count": 5,
      "metadata": {
        "id": "veZJOt_EbrI8"
      },
      "outputs": [],
      "source": [
        "!mkdir -p ~/.kaggle"
      ]
    },
    {
      "cell_type": "code",
      "source": [
        "!cp kaggle_89.json ~/.kaggle/"
      ],
      "metadata": {
        "id": "Kr5AoNQS0M2R"
      },
      "execution_count": 7,
      "outputs": []
    },
    {
      "cell_type": "code",
      "source": [
        "!chmod 600 ~/.kaggle/kaggle_89.json"
      ],
      "metadata": {
        "id": "NecnVQEX1Xjg"
      },
      "execution_count": 8,
      "outputs": []
    },
    {
      "cell_type": "code",
      "execution_count": 11,
      "metadata": {
        "colab": {
          "base_uri": "https://localhost:8080/"
        },
        "id": "UehP4rwZkhpg",
        "outputId": "0f9361fd-72d0-42c0-c963-adcbab1e72b1"
      },
      "outputs": [
        {
          "output_type": "stream",
          "name": "stdout",
          "text": [
            "Dataset URL: https://www.kaggle.com/datasets/utkarshsaxenadn/car-vs-bike-classification-dataset\n",
            "License(s): CC0-1.0\n",
            "Downloading car-vs-bike-classification-dataset.zip to /content\n",
            " 95% 98.0M/103M [00:04<00:00, 23.4MB/s]\n",
            "100% 103M/103M [00:04<00:00, 24.5MB/s] \n"
          ]
        }
      ],
      "source": [
        "!kaggle datasets download -d utkarshsaxenadn/car-vs-bike-classification-dataset"
      ]
    },
    {
      "cell_type": "code",
      "execution_count": 12,
      "metadata": {
        "id": "jPQi6pNtmTkN"
      },
      "outputs": [],
      "source": [
        "import zipfile\n",
        "zip_ref = zipfile.ZipFile('/content/car-vs-bike-classification-dataset.zip', 'r')\n",
        "zip_ref.extractall('/content')\n",
        "zip_ref.close()"
      ]
    },
    {
      "cell_type": "code",
      "execution_count": 13,
      "metadata": {
        "id": "6wdBBfgjmmw4"
      },
      "outputs": [],
      "source": [
        "\n",
        "import numpy as np\n",
        "import pandas as pd\n",
        "import matplotlib.pyplot as plt\n",
        "\n",
        "from collections import Counter\n",
        "\n",
        "\n",
        "import tensorflow as tf\n",
        "import tensorflow.keras\n",
        "from keras.preprocessing.image import ImageDataGenerator\n",
        "from keras.preprocessing.image import save_img\n",
        "\n",
        "\n",
        "\n",
        "from keras.models import Sequential\n",
        "from keras.layers import Conv2D, AveragePooling2D, Dense, Flatten, Dropout\n",
        "from tensorflow.keras.optimizers import Adam\n",
        "from tensorflow.keras.callbacks import TensorBoard\n",
        "from keras.callbacks import EarlyStopping, ModelCheckpoint\n",
        "\n",
        "\n",
        "from sklearn.metrics import confusion_matrix"
      ]
    },
    {
      "cell_type": "code",
      "execution_count": 14,
      "metadata": {
        "id": "NBuapD47mqiK"
      },
      "outputs": [],
      "source": [
        "file_path = '/content/Car-Bike-Dataset'"
      ]
    },
    {
      "cell_type": "code",
      "execution_count": 15,
      "metadata": {
        "id": "2B4yNtKbnK6c"
      },
      "outputs": [],
      "source": [
        "batch_size = 32\n",
        "img_height = 256\n",
        "img_width = 256"
      ]
    },
    {
      "cell_type": "code",
      "execution_count": 16,
      "metadata": {
        "id": "sCprD1V8nQn5"
      },
      "outputs": [],
      "source": [
        "\n",
        "\n",
        "data_generator = ImageDataGenerator(rescale=1/255.,\n",
        "                               rotation_range = 90,\n",
        "                               width_shift_range = 0.1,\n",
        "                               horizontal_flip = True,\n",
        "                               vertical_flip = True,\n",
        "                               validation_split = 0.2)\n",
        "\n"
      ]
    },
    {
      "cell_type": "code",
      "execution_count": 17,
      "metadata": {
        "colab": {
          "base_uri": "https://localhost:8080/"
        },
        "id": "sLmQbfggnTGZ",
        "outputId": "902cd999-dd1a-4f9f-f553-60665935ee9c"
      },
      "outputs": [
        {
          "output_type": "stream",
          "name": "stdout",
          "text": [
            "Found 3200 images belonging to 2 classes.\n"
          ]
        }
      ],
      "source": [
        "train_set = data_generator.flow_from_directory(file_path,\n",
        "                               class_mode = 'binary',\n",
        "                               target_size = (img_height,img_width),\n",
        "                               shuffle = True,\n",
        "                               batch_size = batch_size,\n",
        "                               subset = 'training')"
      ]
    },
    {
      "cell_type": "code",
      "execution_count": 18,
      "metadata": {
        "colab": {
          "base_uri": "https://localhost:8080/"
        },
        "id": "YpPqJ6KfnZxN",
        "outputId": "cb58c896-a039-4528-fb1a-64c8bc1accd0"
      },
      "outputs": [
        {
          "output_type": "stream",
          "name": "stdout",
          "text": [
            "Found 800 images belonging to 2 classes.\n"
          ]
        }
      ],
      "source": [
        "test_set = data_generator.flow_from_directory(file_path,\n",
        "                               class_mode = 'binary',\n",
        "                               target_size = (img_height,img_width),\n",
        "                               shuffle = False,\n",
        "                               batch_size = batch_size,\n",
        "                               subset = 'validation')"
      ]
    },
    {
      "cell_type": "code",
      "execution_count": 19,
      "metadata": {
        "colab": {
          "base_uri": "https://localhost:8080/"
        },
        "id": "-UDgw6gTnwtC",
        "outputId": "646c2f76-37af-4a0c-b77c-62c3ac9b881d"
      },
      "outputs": [
        {
          "output_type": "stream",
          "name": "stdout",
          "text": [
            "Model: \"sequential\"\n",
            "_________________________________________________________________\n",
            " Layer (type)                Output Shape              Param #   \n",
            "=================================================================\n",
            " conv2d (Conv2D)             (None, 254, 254, 64)      1792      \n",
            "                                                                 \n",
            " average_pooling2d (Average  (None, 127, 127, 64)      0         \n",
            " Pooling2D)                                                      \n",
            "                                                                 \n",
            " dropout (Dropout)           (None, 127, 127, 64)      0         \n",
            "                                                                 \n",
            " conv2d_1 (Conv2D)           (None, 125, 125, 64)      36928     \n",
            "                                                                 \n",
            " average_pooling2d_1 (Avera  (None, 62, 62, 64)        0         \n",
            " gePooling2D)                                                    \n",
            "                                                                 \n",
            " dropout_1 (Dropout)         (None, 62, 62, 64)        0         \n",
            "                                                                 \n",
            " conv2d_2 (Conv2D)           (None, 60, 60, 64)        36928     \n",
            "                                                                 \n",
            " average_pooling2d_2 (Avera  (None, 30, 30, 64)        0         \n",
            " gePooling2D)                                                    \n",
            "                                                                 \n",
            " dropout_2 (Dropout)         (None, 30, 30, 64)        0         \n",
            "                                                                 \n",
            " flatten (Flatten)           (None, 57600)             0         \n",
            "                                                                 \n",
            " dense (Dense)               (None, 512)               29491712  \n",
            "                                                                 \n",
            " dense_1 (Dense)             (None, 512)               262656    \n",
            "                                                                 \n",
            " dense_2 (Dense)             (None, 512)               262656    \n",
            "                                                                 \n",
            " dense_3 (Dense)             (None, 1)                 513       \n",
            "                                                                 \n",
            "=================================================================\n",
            "Total params: 30093185 (114.80 MB)\n",
            "Trainable params: 30093185 (114.80 MB)\n",
            "Non-trainable params: 0 (0.00 Byte)\n",
            "_________________________________________________________________\n"
          ]
        }
      ],
      "source": [
        "num_classes = 1\n",
        "model = Sequential([\n",
        "  tf.keras.layers.Conv2D(64, 3, activation='relu'),\n",
        "  tf.keras.layers.AveragePooling2D(),\n",
        "  tf.keras.layers.Dropout(0.2),\n",
        "  tf.keras.layers.Conv2D(64, 3, activation='relu'),\n",
        "  tf.keras.layers.AveragePooling2D(),\n",
        "  tf.keras.layers.Dropout(0.2),\n",
        "  tf.keras.layers.Conv2D(64, 3, activation='relu'),\n",
        "  tf.keras.layers.AveragePooling2D(),\n",
        "  tf.keras.layers.Dropout(0.2),\n",
        "  tf.keras.layers.Flatten(),\n",
        "  tf.keras.layers.Dense(512, activation='relu'),\n",
        "  tf.keras.layers.Dense(512, activation='relu'),\n",
        "  tf.keras.layers.Dense(512, activation='relu'),\n",
        "  tf.keras.layers.Dense(1, activation = 'sigmoid' )\n",
        "\n",
        "])\n",
        "\n",
        "model.build(input_shape = (None,256,256,3))\n",
        "model.summary()"
      ]
    },
    {
      "cell_type": "code",
      "execution_count": 20,
      "metadata": {
        "id": "FPxyEGI8n62Q"
      },
      "outputs": [],
      "source": [
        "model.compile(\n",
        "  optimizer='adam',\n",
        "  loss=tf.keras.losses.BinaryCrossentropy(from_logits=True),\n",
        "  metrics=['accuracy'])"
      ]
    },
    {
      "cell_type": "code",
      "execution_count": 21,
      "metadata": {
        "colab": {
          "base_uri": "https://localhost:8080/"
        },
        "id": "cfd_YZUsoBx7",
        "outputId": "d64927a6-3785-4805-c10b-f91cd0c9278c"
      },
      "outputs": [
        {
          "output_type": "stream",
          "name": "stdout",
          "text": [
            "Epoch 1/20\n"
          ]
        },
        {
          "output_type": "stream",
          "name": "stderr",
          "text": [
            "/usr/local/lib/python3.10/dist-packages/keras/src/backend.py:5818: UserWarning: \"`binary_crossentropy` received `from_logits=True`, but the `output` argument was produced by a Sigmoid activation and thus does not represent logits. Was this intended?\n",
            "  output, from_logits = _get_logits(\n"
          ]
        },
        {
          "output_type": "stream",
          "name": "stdout",
          "text": [
            " 20/100 [=====>........................] - ETA: 42s - loss: 0.8453 - accuracy: 0.5078"
          ]
        },
        {
          "output_type": "stream",
          "name": "stderr",
          "text": [
            "/usr/local/lib/python3.10/dist-packages/PIL/Image.py:996: UserWarning: Palette images with Transparency expressed in bytes should be converted to RGBA images\n",
            "  warnings.warn(\n"
          ]
        },
        {
          "output_type": "stream",
          "name": "stdout",
          "text": [
            "100/100 [==============================] - 80s 716ms/step - loss: 0.7137 - accuracy: 0.5478 - val_loss: 0.6629 - val_accuracy: 0.5788\n",
            "Epoch 2/20\n",
            "100/100 [==============================] - 72s 720ms/step - loss: 0.5973 - accuracy: 0.6891 - val_loss: 0.5865 - val_accuracy: 0.7000\n",
            "Epoch 3/20\n",
            "100/100 [==============================] - 71s 715ms/step - loss: 0.5325 - accuracy: 0.7453 - val_loss: 0.5631 - val_accuracy: 0.7212\n",
            "Epoch 4/20\n",
            "100/100 [==============================] - 69s 695ms/step - loss: 0.5004 - accuracy: 0.7484 - val_loss: 0.5581 - val_accuracy: 0.7050\n",
            "Epoch 5/20\n",
            "100/100 [==============================] - 71s 714ms/step - loss: 0.4725 - accuracy: 0.7856 - val_loss: 0.4710 - val_accuracy: 0.7812\n",
            "Epoch 6/20\n",
            "100/100 [==============================] - 71s 714ms/step - loss: 0.4419 - accuracy: 0.7959 - val_loss: 0.5702 - val_accuracy: 0.7175\n",
            "Epoch 7/20\n",
            "100/100 [==============================] - 79s 789ms/step - loss: 0.4212 - accuracy: 0.8050 - val_loss: 0.4569 - val_accuracy: 0.8075\n",
            "Epoch 8/20\n",
            "100/100 [==============================] - 79s 795ms/step - loss: 0.4014 - accuracy: 0.8228 - val_loss: 0.4842 - val_accuracy: 0.7675\n",
            "Epoch 9/20\n",
            "100/100 [==============================] - 72s 716ms/step - loss: 0.3772 - accuracy: 0.8303 - val_loss: 0.4462 - val_accuracy: 0.8087\n",
            "Epoch 10/20\n",
            "100/100 [==============================] - 71s 702ms/step - loss: 0.3761 - accuracy: 0.8306 - val_loss: 0.4332 - val_accuracy: 0.8037\n",
            "Epoch 11/20\n",
            "100/100 [==============================] - 70s 705ms/step - loss: 0.3700 - accuracy: 0.8391 - val_loss: 0.4935 - val_accuracy: 0.7862\n",
            "Epoch 12/20\n",
            "100/100 [==============================] - 71s 706ms/step - loss: 0.3933 - accuracy: 0.8313 - val_loss: 0.3675 - val_accuracy: 0.8413\n",
            "Epoch 13/20\n",
            "100/100 [==============================] - 72s 718ms/step - loss: 0.3553 - accuracy: 0.8372 - val_loss: 0.3994 - val_accuracy: 0.8325\n",
            "Epoch 14/20\n",
            "100/100 [==============================] - 71s 708ms/step - loss: 0.3380 - accuracy: 0.8472 - val_loss: 0.3620 - val_accuracy: 0.8388\n",
            "Epoch 15/20\n",
            "100/100 [==============================] - 70s 704ms/step - loss: 0.3360 - accuracy: 0.8556 - val_loss: 0.3749 - val_accuracy: 0.8413\n",
            "Epoch 16/20\n",
            "100/100 [==============================] - 68s 680ms/step - loss: 0.3045 - accuracy: 0.8716 - val_loss: 0.3586 - val_accuracy: 0.8450\n",
            "Epoch 17/20\n",
            "100/100 [==============================] - 68s 676ms/step - loss: 0.3048 - accuracy: 0.8728 - val_loss: 0.3872 - val_accuracy: 0.8413\n",
            "Epoch 18/20\n",
            "100/100 [==============================] - 69s 689ms/step - loss: 0.3188 - accuracy: 0.8650 - val_loss: 0.3330 - val_accuracy: 0.8562\n",
            "Epoch 19/20\n",
            "100/100 [==============================] - 77s 767ms/step - loss: 0.2911 - accuracy: 0.8778 - val_loss: 0.3534 - val_accuracy: 0.8587\n",
            "Epoch 20/20\n",
            "100/100 [==============================] - 68s 677ms/step - loss: 0.2923 - accuracy: 0.8741 - val_loss: 0.3411 - val_accuracy: 0.8425\n"
          ]
        }
      ],
      "source": [
        "training_history = model.fit(\n",
        "  train_set,\n",
        "  validation_data=test_set,\n",
        "  epochs=20,\n",
        "  shuffle = True,\n",
        "  batch_size = 32\n",
        ")"
      ]
    },
    {
      "cell_type": "code",
      "execution_count": 22,
      "metadata": {
        "colab": {
          "base_uri": "https://localhost:8080/",
          "height": 430
        },
        "id": "3pmI_Ubd2mzU",
        "outputId": "5af19112-9695-44bd-fc6a-0eca9f571ed4"
      },
      "outputs": [
        {
          "output_type": "display_data",
          "data": {
            "text/plain": [
              "<Figure size 640x480 with 1 Axes>"
            ],
            "image/png": "[encoded data removed]"
          },
          "metadata": {}
        }
      ],
      "source": [
        "plt.plot(training_history.history['accuracy'], color = 'cyan', label='train')\n",
        "plt.plot(training_history.history['val_accuracy'], color = 'black', label='validation')\n",
        "plt.legend()\n",
        "plt.show()"
      ]
    }
  ],
  "metadata": {
    "accelerator": "GPU",
    "colab": {
      "gpuType": "T4",
      "provenance": []
    },
    "kernelspec": {
      "display_name": "Python 3",
      "name": "python3"
    },
    "language_info": {
      "name": "python"
    }
  },
  "nbformat": 4,
  "nbformat_minor": 0
}